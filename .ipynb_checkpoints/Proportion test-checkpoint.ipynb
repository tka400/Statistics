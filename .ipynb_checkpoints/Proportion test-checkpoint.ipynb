{
 "cells": [
  {
   "cell_type": "code",
   "execution_count": 1,
   "metadata": {},
   "outputs": [],
   "source": [
    "import numpy as np\n",
    "import pandas as pd\n",
    "from tqdm.notebook import tqdm\n",
    "from matplotlib import pyplot as plt"
   ]
  },
  {
   "cell_type": "markdown",
   "metadata": {},
   "source": [
    "### Тест пропорций. Выборки А и В содержат дискретные случайные величины. "
   ]
  },
  {
   "cell_type": "markdown",
   "metadata": {},
   "source": [
    "Выборки размеров n и m, с конверсией - a и b (число единиц или успехов).\n",
    "\n",
    "Гипотезы.\n",
    "\n",
    "H0: выбрки А и В из одного распределения\n",
    "H1: выборки из разных распределений"
   ]
  },
  {
   "cell_type": "code",
   "execution_count": 2,
   "metadata": {
    "code_folding": [
     0
    ],
    "run_control": {
     "marked": false
    }
   },
   "outputs": [],
   "source": [
    "def evaluate_pvals(a=70, b=48, n=700, m=300, N=1000):\n",
    "    p = (a + b) / (n + m)\n",
    "    pvals = []\n",
    "\n",
    "    for _ in tqdm(range(N)):\n",
    "        A = np.random.binomial(1, a / n, n)\n",
    "        B = np.random.binomial(1, b / m, m)\n",
    "\n",
    "        # фиксируем различие\n",
    "        diff = abs(A.mean() - B.mean())\n",
    "\n",
    "        # как часто различие будет равно и больше при многократном семплировании из выборки A+B\n",
    "        pval = np.mean([abs(np.random.binomial(1, p, n).mean() - np.random.binomial(1, p, m).mean()) >= diff for _ in range(N)])\n",
    "        pvals.append(pval) \n",
    "    \n",
    "    return pvals"
   ]
  },
  {
   "cell_type": "code",
   "execution_count": 49,
   "metadata": {},
   "outputs": [
    {
     "data": {
      "application/vnd.jupyter.widget-view+json": {
       "model_id": "236a5c1bed2341dc81363f42cea95807",
       "version_major": 2,
       "version_minor": 0
      },
      "text/plain": [
       "HBox(children=(HTML(value=''), FloatProgress(value=0.0, max=1000.0), HTML(value='')))"
      ]
     },
     "metadata": {},
     "output_type": "display_data"
    },
    {
     "name": "stdout",
     "output_type": "stream",
     "text": [
      "\n"
     ]
    }
   ],
   "source": [
    "n = 700 # размер выборки А\n",
    "m = 300 # размер выборки В\n",
    "\n",
    "a = 70  # конверсия по выборке А\n",
    "b = 48  # конверсия по выборке В\n",
    "\n",
    "# количество экспериментов Монте-Карло\n",
    "N = 1000\n",
    "\n",
    "# многократно семплируя наблюдения (эксперимент Монте Карло) считаем число превышений заданной\n",
    "# конверсии, это и есть p-value\n",
    "pvals = evaluate_pvals(a, b, n, m, N)"
   ]
  },
  {
   "cell_type": "markdown",
   "metadata": {},
   "source": [
    "Мощность теста (power) для порога значимости alpha."
   ]
  },
  {
   "cell_type": "code",
   "execution_count": 50,
   "metadata": {},
   "outputs": [
    {
     "name": "stdout",
     "output_type": "stream",
     "text": [
      "Как часто будем отвергать Н0 при условии что она не верна.\n",
      "Мощность теста = 0.731\n"
     ]
    }
   ],
   "source": [
    "alpha = 0.05 # порог значимости, ложные срабатывания, ошибка I рода\n",
    "power = np.mean(np.array(pvals) < alpha)\n",
    "\n",
    "print(\"Как часто будем отвергать Н0 при условии что она не верна.\")\n",
    "print(\"Мощность теста =\", str(power))"
   ]
  },
  {
   "cell_type": "code",
   "execution_count": 51,
   "metadata": {
    "code_folding": [
     0
    ]
   },
   "outputs": [],
   "source": [
    "def plot_the_couple(pvals, N, power, alpha):\n",
    "    fig, axes = plt.subplots(nrows=1, ncols=2, figsize=(10, 3))\n",
    "\n",
    "    axes[0].hist(pvals)\n",
    "    axes[0].set_xlabel(\"p values\")\n",
    "    axes[0].set_xlim(-0.1, 1.1)\n",
    "\n",
    "    \n",
    "    np.array(pvals.sort())\n",
    "    df = pd.DataFrame({\"pvals\": pvals, \"TPR\": [i / N for i in range(N)]})\n",
    "    \n",
    "    axes[1].plot(df[\"pvals\"], df[\"TPR\"], label=\"ROC\")\n",
    "    axes[1].plot([alpha, alpha], [0, 1], \"k\", label=\"alpha\")\n",
    "    axes[1].plot([0, alpha], [power, power], label=\"Power\")\n",
    "    axes[1].set_ylabel(\"TPR, recall, sencitivity, Power\")\n",
    "    axes[1].set_xlabel(\"FPR\")\n",
    "    axes[1].set_title(\"ROC\")\n",
    "    axes[1].set_xlim(-0.1, 1.1)\n",
    "    axes[1].legend()\n",
    "    plt.savefig(\"Power_by_ROC.png\")\n",
    "    plt.show()"
   ]
  },
  {
   "cell_type": "code",
   "execution_count": 52,
   "metadata": {},
   "outputs": [
    {
     "data": {
      "image/png": "[encoded data removed]",
      "text/plain": [
       "<Figure size 720x216 with 2 Axes>"
      ]
     },
     "metadata": {
      "needs_background": "light"
     },
     "output_type": "display_data"
    }
   ],
   "source": [
    "plot_the_couple(pvals, N, power, alpha)"
   ]
  },
  {
   "cell_type": "markdown",
   "metadata": {},
   "source": [
    "Значение p values сконцентрировано у 0, значит мы редко будем получать такие и большие различия - выборки из разных распределений."
   ]
  },
  {
   "cell_type": "markdown",
   "metadata": {},
   "source": [
    "Полученная мощность теста ниже 0.80 (80%). Чтобы увеличить мощность теста необходимо увеличить размер выборок n и m. "
   ]
  },
  {
   "cell_type": "markdown",
   "metadata": {},
   "source": [
    "## АА тест"
   ]
  },
  {
   "cell_type": "markdown",
   "metadata": {},
   "source": [
    "Также нужно провести А/А тест (sanity test) для проверки применимости теста на имеющихся данных."
   ]
  },
  {
   "cell_type": "code",
   "execution_count": 53,
   "metadata": {},
   "outputs": [
    {
     "data": {
      "application/vnd.jupyter.widget-view+json": {
       "model_id": "1007fb3983ab47388e51ea4c09e11a12",
       "version_major": 2,
       "version_minor": 0
      },
      "text/plain": [
       "HBox(children=(HTML(value=''), FloatProgress(value=0.0, max=1000.0), HTML(value='')))"
      ]
     },
     "metadata": {},
     "output_type": "display_data"
    },
    {
     "name": "stdout",
     "output_type": "stream",
     "text": [
      "\n"
     ]
    }
   ],
   "source": [
    "pvals = evaluate_pvals(a, a, n, n, N)"
   ]
  },
  {
   "cell_type": "markdown",
   "metadata": {},
   "source": [
    "Доля ложных срабатываний - False Positive"
   ]
  },
  {
   "cell_type": "code",
   "execution_count": 54,
   "metadata": {},
   "outputs": [
    {
     "data": {
      "text/plain": [
       "0.038"
      ]
     },
     "execution_count": 54,
     "metadata": {},
     "output_type": "execute_result"
    }
   ],
   "source": [
    "alpha = 0.05\n",
    "FP = np.mean(np.array(pvals) < alpha)\n",
    "FP"
   ]
  },
  {
   "cell_type": "code",
   "execution_count": 55,
   "metadata": {},
   "outputs": [
    {
     "data": {
      "image/png": "[encoded data removed]",
      "text/plain": [
       "<Figure size 720x216 with 2 Axes>"
      ]
     },
     "metadata": {
      "needs_background": "light"
     },
     "output_type": "display_data"
    }
   ],
   "source": [
    "plot_the_couple(pvals, N, FP, alpha)"
   ]
  },
  {
   "cell_type": "markdown",
   "metadata": {},
   "source": [
    "Распределение значения p value равномерно, а уровень False Positive на уровне alpha значит на данных можно применять статистические тесты."
   ]
  },
  {
   "cell_type": "markdown",
   "metadata": {},
   "source": [
    "А точно распределение p-value равномерно? Давайте построим qqplot и проверим."
   ]
  },
  {
   "cell_type": "code",
   "execution_count": 56,
   "metadata": {},
   "outputs": [],
   "source": [
    "import pylab\n",
    "import scipy.stats as stats"
   ]
  },
  {
   "cell_type": "code",
   "execution_count": 58,
   "metadata": {},
   "outputs": [
    {
     "data": {
      "text/plain": [
       "[]"
      ]
     },
     "execution_count": 58,
     "metadata": {},
     "output_type": "execute_result"
    },
    {
     "data": {
      "image/png": "[encoded data removed]",
      "text/plain": [
       "<Figure size 432x288 with 1 Axes>"
      ]
     },
     "metadata": {
      "needs_background": "light"
     },
     "output_type": "display_data"
    }
   ],
   "source": [
    "stats.probplot(pvals, dist=\"uniform\", plot=pylab)\n",
    "pylab.plot()"
   ]
  },
  {
   "cell_type": "markdown",
   "metadata": {},
   "source": [
    "Действительно, p-value распределено равномерно."
   ]
  },
  {
   "cell_type": "markdown",
   "metadata": {},
   "source": [
    "## Тесты из библиотек"
   ]
  },
  {
   "cell_type": "markdown",
   "metadata": {},
   "source": [
    "Применим несколько тетстов из библиотек чтобы проверить наши выводы, сделанные из эксперимента Монте Карло"
   ]
  },
  {
   "cell_type": "code",
   "execution_count": 59,
   "metadata": {},
   "outputs": [],
   "source": [
    "from statsmodels.stats.proportion import proportions_ztest\n",
    "import scipy.stats"
   ]
  },
  {
   "cell_type": "markdown",
   "metadata": {},
   "source": [
    "Как часто будем получать такие-же и большие отличия если будем многократно семплировать из наших данных."
   ]
  },
  {
   "cell_type": "code",
   "execution_count": 61,
   "metadata": {},
   "outputs": [
    {
     "name": "stdout",
     "output_type": "stream",
     "text": [
      "p-value 0.007035346384355496\n"
     ]
    }
   ],
   "source": [
    "statistics, pvalue = proportions_ztest([a, b], [n, m])\n",
    "print(\"p-value\", pvalue)"
   ]
  },
  {
   "cell_type": "markdown",
   "metadata": {},
   "source": [
    "Не часто. Значит данные из разных выборок."
   ]
  },
  {
   "cell_type": "code",
   "execution_count": 62,
   "metadata": {},
   "outputs": [],
   "source": [
    "A = np.random.binomial(1, a / n, n)\n",
    "B = np.random.binomial(1, b / m, m)"
   ]
  },
  {
   "cell_type": "markdown",
   "metadata": {},
   "source": [
    "t-test"
   ]
  },
  {
   "cell_type": "code",
   "execution_count": 63,
   "metadata": {},
   "outputs": [
    {
     "name": "stdout",
     "output_type": "stream",
     "text": [
      "p-value 0.003528131552286685\n"
     ]
    }
   ],
   "source": [
    "statistic, pvalue = scipy.stats.ttest_ind(A, B, equal_var=False)\n",
    "print(\"p-value\", pvalue)"
   ]
  },
  {
   "cell_type": "markdown",
   "metadata": {},
   "source": [
    "Mann-Whitneyu test"
   ]
  },
  {
   "cell_type": "code",
   "execution_count": 64,
   "metadata": {},
   "outputs": [
    {
     "name": "stdout",
     "output_type": "stream",
     "text": [
      "p-value 0.0013194798343628897\n"
     ]
    }
   ],
   "source": [
    "statistic, pvalue = scipy.stats.mannwhitneyu(A, B, alternative=\"two-sided\")\n",
    "print(\"p-value\", pvalue)"
   ]
  },
  {
   "cell_type": "markdown",
   "metadata": {},
   "source": [
    "Вывод: p-value ниже порога значимости alpha (0.05) а значит различие в конверсиях выборок A и B не случайно. Но, т.к. мощность тестов не 100% мы можем и ошибаться."
   ]
  },
  {
   "cell_type": "markdown",
   "metadata": {},
   "source": [
    "## Lambda функция"
   ]
  },
  {
   "cell_type": "markdown",
   "metadata": {},
   "source": [
    "Многократное семплирование можно задать заранее, а затем через lambda функцию посчитать значения p-value."
   ]
  },
  {
   "cell_type": "code",
   "execution_count": 65,
   "metadata": {},
   "outputs": [],
   "source": [
    "A = np.random.binomial(1, a / n, n * N).reshape(N, n)\n",
    "B = np.random.binomial(1, b / m, m * N).reshape(N, m)"
   ]
  },
  {
   "cell_type": "code",
   "execution_count": 66,
   "metadata": {},
   "outputs": [],
   "source": [
    "tt_pvalues = list(map(lambda x: scipy.stats.ttest_ind(x[0], x[1]).pvalue, zip(A, B)))\n",
    "mw_pvalues = list(map(lambda x: scipy.stats.mannwhitneyu(x[0], x[1]).pvalue, zip(A, B)))"
   ]
  },
  {
   "cell_type": "code",
   "execution_count": 67,
   "metadata": {},
   "outputs": [
    {
     "data": {
      "image/png": "[encoded data removed]",
      "text/plain": [
       "<Figure size 432x288 with 1 Axes>"
      ]
     },
     "metadata": {
      "needs_background": "light"
     },
     "output_type": "display_data"
    }
   ],
   "source": [
    "# распределение значения p\n",
    "pd.Series(tt_pvalues).hist(label=\"t-test p-value\", bins=20)\n",
    "pd.Series(mw_pvalues).hist(label=\"mw-test p-value\", bins=20)\n",
    "plt.legend()\n",
    "plt.xlabel(\"p value\")\n",
    "plt.show()"
   ]
  },
  {
   "cell_type": "code",
   "execution_count": 69,
   "metadata": {},
   "outputs": [
    {
     "data": {
      "text/plain": [
       "(0.736, 0.736)"
      ]
     },
     "execution_count": 69,
     "metadata": {},
     "output_type": "execute_result"
    }
   ],
   "source": [
    "# мощности тестов t-test и Manh-Witneyu\n",
    "np.mean(np.array(tt_pvalues) < alpha), np.mean(np.array(mw_pvalues) < alpha)"
   ]
  },
  {
   "cell_type": "markdown",
   "metadata": {},
   "source": [
    "## Bootstrap"
   ]
  },
  {
   "cell_type": "markdown",
   "metadata": {},
   "source": [
    "Давайте применим bootstrap для ускорения теста пропорций с определением мощности и построением ROC кривой."
   ]
  },
  {
   "cell_type": "code",
   "execution_count": 70,
   "metadata": {
    "code_folding": []
   },
   "outputs": [],
   "source": [
    "def t_star(A, B):   \n",
    "    C = np.hstack((A, B))\n",
    "    \n",
    "    A = pd.Series(C).sample(N, replace=True)\n",
    "    B = pd.Series(C).sample(N, replace=True)\n",
    "    \n",
    "    # статистика теста\n",
    "    t = (A.mean() - B.mean()) / np.sqrt(A.var()/len(A) + B.var()/len(B))\n",
    "    return t"
   ]
  },
  {
   "cell_type": "code",
   "execution_count": 71,
   "metadata": {
    "code_folding": [],
    "run_control": {
     "marked": false
    }
   },
   "outputs": [
    {
     "data": {
      "application/vnd.jupyter.widget-view+json": {
       "model_id": "263f4d71999a4b64a84fc7d8a1b8789c",
       "version_major": 2,
       "version_minor": 0
      },
      "text/plain": [
       "HBox(children=(HTML(value=''), FloatProgress(value=0.0, max=1000.0), HTML(value='')))"
      ]
     },
     "metadata": {},
     "output_type": "display_data"
    },
    {
     "name": "stdout",
     "output_type": "stream",
     "text": [
      "\n"
     ]
    }
   ],
   "source": [
    "pvals = []\n",
    "\n",
    "for _ in tqdm(range(N)):\n",
    "    A = np.random.binomial(1, a / n, n)\n",
    "    B = np.random.binomial(1, b / m, m)\n",
    "\n",
    "    # статистика теста\n",
    "    t = (A.mean() - B.mean()) / np.sqrt(A.var() / len(A) + B.var() / len(B))\n",
    "    \n",
    "    # weighted bootstrap\n",
    "    A = np.hstack((A, np.random.standard_t(len(A) - 1, len(A)) + A.mean()))\n",
    "    B = np.hstack((B, np.random.standard_t(len(B) - 1, len(B)) + B.mean()))\n",
    "    \n",
    "    Z = np.hstack((A, B)).mean()\n",
    "    \n",
    "    A = A - A.mean() + Z\n",
    "    B = B - B.mean() + Z    \n",
    "    \n",
    "    pval = np.mean([t_star(A, B) <= t for _ in range(100)])\n",
    "    pvals.append(pval)"
   ]
  },
  {
   "cell_type": "markdown",
   "metadata": {},
   "source": [
    "Как-то медленно. Это из-за цикла.\n",
    "Но, зато понятно что происходит.\n",
    "Ускорить можно если заранее подготовить распределение бутсрапом."
   ]
  },
  {
   "cell_type": "code",
   "execution_count": 72,
   "metadata": {},
   "outputs": [
    {
     "name": "stdout",
     "output_type": "stream",
     "text": [
      "Как часто будем отвергать Н0 при условии что она не верна.\n",
      "Мощность теста = 0.804\n"
     ]
    }
   ],
   "source": [
    "alpha = 0.05 # порог значимости, ложные срабатывания, ошибка I рода\n",
    "power = np.mean(np.array(pvals) < alpha)\n",
    "\n",
    "print(\"Как часто будем отвергать Н0 при условии что она не верна.\")\n",
    "print(\"Мощность теста =\", str(power))"
   ]
  },
  {
   "cell_type": "code",
   "execution_count": 73,
   "metadata": {},
   "outputs": [
    {
     "data": {
      "image/png": "[encoded data removed]",
      "text/plain": [
       "<Figure size 720x216 with 2 Axes>"
      ]
     },
     "metadata": {
      "needs_background": "light"
     },
     "output_type": "display_data"
    }
   ],
   "source": [
    "plot_the_couple(pvals, N, power, alpha)"
   ]
  },
  {
   "cell_type": "markdown",
   "metadata": {},
   "source": [
    "Мощность по-больше."
   ]
  },
  {
   "cell_type": "markdown",
   "metadata": {},
   "source": [
    "## Bucketing"
   ]
  },
  {
   "cell_type": "markdown",
   "metadata": {},
   "source": [
    "Есть еще один способ - группировка (bucketing). Но для него нужно много данных, т.к. он не семплирует выборки а бьёт их."
   ]
  },
  {
   "cell_type": "code",
   "execution_count": 74,
   "metadata": {
    "code_folding": [
     6
    ],
    "run_control": {
     "marked": false
    }
   },
   "outputs": [],
   "source": [
    "buckets = N\n",
    "pvals = []\n",
    "\n",
    "A = np.random.binomial(1, (a * N) / (n * N), n * N)\n",
    "B = np.random.binomial(1, (b * N) / (m * N), m * N)\n",
    "\n",
    "for bucket in np.arange(buckets):\n",
    "    ind_A = np.arange(bucket * (n * N) / buckets, bucket * (n * N) / buckets + (n * N) / buckets).astype(np.int)\n",
    "    ind_B = np.arange(bucket * (m * N) / buckets, bucket * (m * N) / buckets + (m * N) / buckets).astype(np.int)\n",
    "    pvals.append(scipy.stats.ttest_ind(A[ind_A], B[ind_B]).pvalue)"
   ]
  },
  {
   "cell_type": "code",
   "execution_count": 75,
   "metadata": {},
   "outputs": [
    {
     "name": "stdout",
     "output_type": "stream",
     "text": [
      "Как часто будем отвергать Н0 при условии что она не верна.\n",
      "Мощность теста = 0.751\n"
     ]
    }
   ],
   "source": [
    "alpha = 0.05 # порог значимости, ложные срабатывания, ошибка I рода\n",
    "power = np.mean(np.array(pvals) < alpha)\n",
    "\n",
    "print(\"Как часто будем отвергать Н0 при условии что она не верна.\")\n",
    "print(\"Мощность теста =\", str(power))"
   ]
  },
  {
   "cell_type": "code",
   "execution_count": 76,
   "metadata": {},
   "outputs": [
    {
     "data": {
      "image/png": "[encoded data removed]",
      "text/plain": [
       "<Figure size 720x216 with 2 Axes>"
      ]
     },
     "metadata": {
      "needs_background": "light"
     },
     "output_type": "display_data"
    }
   ],
   "source": [
    "plot_the_couple(pvals, N, power, alpha)"
   ]
  },
  {
   "cell_type": "markdown",
   "metadata": {},
   "source": [
    "## Линейная регрессия"
   ]
  },
  {
   "cell_type": "markdown",
   "metadata": {},
   "source": [
    "Попробуем линериализацию.\n",
    "Идея проста. На данных строим линейную модель, запоминаем вес. Далее объединяем выборки, многократно из них семплируем, определяя вес и сравниваем его с изначальным, отвечая на вопрос - как часто будем получать такие-же и большие различия?"
   ]
  },
  {
   "cell_type": "markdown",
   "metadata": {},
   "source": [
    "Выпендримся и напишем свою линейную регрессию."
   ]
  },
  {
   "cell_type": "code",
   "execution_count": 77,
   "metadata": {
    "code_folding": []
   },
   "outputs": [],
   "source": [
    "class LinearRegression(object):\n",
    "    def __init__(self):\n",
    "        self.weights = None\n",
    "    \n",
    "    def fit(self, dataset):\n",
    "        X, y = dataset\n",
    "        \n",
    "        X = X[:, np.newaxis]\n",
    "        X = np.concatenate((np.ones((X.shape[0], 1)), X), axis=1)\n",
    "        self.weights = np.ones(X.shape[1])\n",
    "        \n",
    "        for _ in range(100):\n",
    "            predict = X.dot(self.weights)\n",
    "            error = predict - y\n",
    "            dw = 1 / len(y) * X.T.dot(error)\n",
    "            self.weights -= 0.1 * dw\n",
    "        \n",
    "        return self.weights"
   ]
  },
  {
   "cell_type": "code",
   "execution_count": 78,
   "metadata": {
    "code_folding": [
     0,
     13
    ]
   },
   "outputs": [],
   "source": [
    "def dataset():\n",
    "    A = np.random.binomial(1, a / n, n)\n",
    "    B = np.random.binomial(1, b / m, m)\n",
    "\n",
    "    df_a = pd.DataFrame({\"y\": A, \"group\": [0] * len(A)})\n",
    "    df_b = pd.DataFrame({\"y\": B, \"group\": [1] * len(B)})\n",
    "\n",
    "    df = pd.concat([df_a, df_b])\n",
    "\n",
    "    X, y = np.array(df[\"group\"]), np.array(df[\"y\"])\n",
    "    \n",
    "    return (X, y)\n",
    "\n",
    "def dataset_AB():\n",
    "    p = (a + b) / (n + m)\n",
    "    A = np.random.binomial(1, p, n)\n",
    "    B = np.random.binomial(1, p, m)\n",
    "\n",
    "    df_a = pd.DataFrame({\"y\": A, \"group\": [0] * len(A)})\n",
    "    df_b = pd.DataFrame({\"y\": B, \"group\": [1] * len(B)})\n",
    "\n",
    "    df = pd.concat([df_a, df_b])\n",
    "\n",
    "    X, y = np.array(df[\"group\"]), np.array(df[\"y\"])\n",
    "    \n",
    "    return (X, y)"
   ]
  },
  {
   "cell_type": "code",
   "execution_count": 79,
   "metadata": {},
   "outputs": [],
   "source": [
    "n = 700 # размер выборки А\n",
    "m = 300 # размер выборки В\n",
    "\n",
    "a = 70  # конверсия по выборке А\n",
    "b = 48  # конверсия по выборке В\n",
    "\n",
    "# количество экспериментов Монте-Карло\n",
    "N = 100"
   ]
  },
  {
   "cell_type": "code",
   "execution_count": 80,
   "metadata": {
    "code_folding": []
   },
   "outputs": [
    {
     "data": {
      "application/vnd.jupyter.widget-view+json": {
       "model_id": "7d8f448a0dc043af9bfaa693ff6cf361",
       "version_major": 2,
       "version_minor": 0
      },
      "text/plain": [
       "HBox(children=(HTML(value=''), FloatProgress(value=0.0), HTML(value='')))"
      ]
     },
     "metadata": {},
     "output_type": "display_data"
    },
    {
     "name": "stdout",
     "output_type": "stream",
     "text": [
      "\n"
     ]
    }
   ],
   "source": [
    "pvals = []\n",
    "\n",
    "for _ in tqdm(range(N)):   \n",
    "    k = LinearRegression().fit(dataset())[1]\n",
    "    \n",
    "    pval = np.mean([LinearRegression().fit(dataset_AB())[1] >= k for _ in range(1000)])\n",
    "    pvals.append(pval)"
   ]
  },
  {
   "cell_type": "code",
   "execution_count": 83,
   "metadata": {},
   "outputs": [
    {
     "name": "stdout",
     "output_type": "stream",
     "text": [
      "Как часто будем отвергать Н0 при условии что она не верна.\n",
      "Мощность теста = 0.85\n"
     ]
    }
   ],
   "source": [
    "alpha = 0.05 # порог значимости, ложные срабатывания, ошибка I рода\n",
    "power = np.mean(np.array(pvals) < alpha)\n",
    "\n",
    "print(\"Как часто будем отвергать Н0 при условии что она не верна.\")\n",
    "print(\"Мощность теста =\", str(power))"
   ]
  },
  {
   "cell_type": "code",
   "execution_count": 84,
   "metadata": {},
   "outputs": [
    {
     "data": {
      "image/png": "[encoded data removed]",
      "text/plain": [
       "<Figure size 720x216 with 2 Axes>"
      ]
     },
     "metadata": {
      "needs_background": "light"
     },
     "output_type": "display_data"
    }
   ],
   "source": [
    "plot_the_couple(pvals, N, power, alpha)"
   ]
  },
  {
   "cell_type": "markdown",
   "metadata": {},
   "source": [
    "## Перебор - permutation"
   ]
  },
  {
   "cell_type": "markdown",
   "metadata": {},
   "source": [
    "Тот-же бутстрап, но без возвращения."
   ]
  },
  {
   "cell_type": "code",
   "execution_count": 104,
   "metadata": {},
   "outputs": [],
   "source": [
    "def prtmutate(A, B):   \n",
    "    C = np.concatenate((A, B))\n",
    "    np.random.shuffle(C)\n",
    "    \n",
    "    A = C[:len(A)]\n",
    "    B = C[len(A):]\n",
    "    \n",
    "    # статистика теста\n",
    "    diff = abs(A.mean() - B.mean())\n",
    "    return diff"
   ]
  },
  {
   "cell_type": "code",
   "execution_count": 107,
   "metadata": {},
   "outputs": [
    {
     "data": {
      "application/vnd.jupyter.widget-view+json": {
       "model_id": "0f7d845e27f74b9682f38f32471d30e4",
       "version_major": 2,
       "version_minor": 0
      },
      "text/plain": [
       "HBox(children=(HTML(value=''), FloatProgress(value=0.0, max=1000.0), HTML(value='')))"
      ]
     },
     "metadata": {},
     "output_type": "display_data"
    },
    {
     "name": "stdout",
     "output_type": "stream",
     "text": [
      "\n"
     ]
    }
   ],
   "source": [
    "pvals = []\n",
    "\n",
    "for _ in tqdm(range(N)):\n",
    "    A = np.random.binomial(1, a / n, n)\n",
    "    B = np.random.binomial(1, b / m, m)\n",
    "\n",
    "    diff = abs(A.mean() - B.mean())  \n",
    "    \n",
    "    pval = np.mean([prtmutate(A, B) >= diff for _ in range(100)])\n",
    "    pvals.append(pval)"
   ]
  },
  {
   "cell_type": "code",
   "execution_count": 108,
   "metadata": {},
   "outputs": [
    {
     "name": "stdout",
     "output_type": "stream",
     "text": [
      "Как часто будем отвергать Н0 при условии что она не верна.\n",
      "Мощность теста = 0.715\n"
     ]
    }
   ],
   "source": [
    "alpha = 0.05 # порог значимости, ложные срабатывания, ошибка I рода\n",
    "power = np.mean(np.array(pvals) < alpha)\n",
    "\n",
    "print(\"Как часто будем отвергать Н0 при условии что она не верна.\")\n",
    "print(\"Мощность теста =\", str(power))"
   ]
  },
  {
   "cell_type": "code",
   "execution_count": 109,
   "metadata": {},
   "outputs": [
    {
     "data": {
      "image/png": "[encoded data removed]",
      "text/plain": [
       "<Figure size 720x216 with 2 Axes>"
      ]
     },
     "metadata": {
      "needs_background": "light"
     },
     "output_type": "display_data"
    }
   ],
   "source": [
    "plot_the_couple(pvals, N, power, alpha)"
   ]
  },
  {
   "cell_type": "code",
   "execution_count": null,
   "metadata": {},
   "outputs": [],
   "source": []
  },
  {
   "cell_type": "code",
   "execution_count": null,
   "metadata": {},
   "outputs": [],
   "source": []
  },
  {
   "cell_type": "code",
   "execution_count": null,
   "metadata": {},
   "outputs": [],
   "source": []
  },
  {
   "cell_type": "code",
   "execution_count": null,
   "metadata": {},
   "outputs": [],
   "source": []
  },
  {
   "cell_type": "code",
   "execution_count": null,
   "metadata": {},
   "outputs": [],
   "source": []
  },
  {
   "cell_type": "code",
   "execution_count": null,
   "metadata": {},
   "outputs": [],
   "source": []
  }
 ],
 "metadata": {
  "kernelspec": {
   "display_name": "Python 3",
   "language": "python",
   "name": "python3"
  },
  "language_info": {
   "codemirror_mode": {
    "name": "ipython",
    "version": 3
   },
   "file_extension": ".py",
   "mimetype": "text/x-python",
   "name": "python",
   "nbconvert_exporter": "python",
   "pygments_lexer": "ipython3",
   "version": "3.8.3"
  },
  "toc": {
   "base_numbering": 1,
   "nav_menu": {},
   "number_sections": true,
   "sideBar": true,
   "skip_h1_title": false,
   "title_cell": "Table of Contents",
   "title_sidebar": "Contents",
   "toc_cell": false,
   "toc_position": {},
   "toc_section_display": true,
   "toc_window_display": false
  },
  "varInspector": {
   "cols": {
    "lenName": 16,
    "lenType": 16,
    "lenVar": 40
   },
   "kernels_config": {
    "python": {
     "delete_cmd_postfix": "",
     "delete_cmd_prefix": "del ",
     "library": "var_list.py",
     "varRefreshCmd": "print(var_dic_list())"
    },
    "r": {
     "delete_cmd_postfix": ") ",
     "delete_cmd_prefix": "rm(",
     "library": "var_list.r",
     "varRefreshCmd": "cat(var_dic_list()) "
    }
   },
   "types_to_exclude": [
    "module",
    "function",
    "builtin_function_or_method",
    "instance",
    "_Feature"
   ],
   "window_display": false
  }
 },
 "nbformat": 4,
 "nbformat_minor": 4
}
