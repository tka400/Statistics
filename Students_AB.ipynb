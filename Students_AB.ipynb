{
 "cells": [
  {
   "cell_type": "code",
   "execution_count": 1,
   "id": "4264df9b",
   "metadata": {},
   "outputs": [],
   "source": [
    "import pandas as pd\n",
    "import numpy as np\n",
    "from matplotlib import pyplot as plt\n",
    "from tqdm.notebook import tqdm"
   ]
  },
  {
   "cell_type": "code",
   "execution_count": 2,
   "id": "40978229",
   "metadata": {},
   "outputs": [],
   "source": [
    "df_id = pd.read_csv(\"active_studs.csv\")\n",
    "df_groups = pd.read_csv(\"groups.csv\", sep=\";\")\n",
    "df_checks = pd.read_csv(\"checks.csv\", sep=\";\")"
   ]
  },
  {
   "cell_type": "code",
   "execution_count": 3,
   "id": "7d472c1b",
   "metadata": {},
   "outputs": [],
   "source": [
    "df_groups.rename(columns={\"grp\": \"group\"}, inplace=True)\n",
    "df_checks.rename(columns={\"student_id\": \"id\"}, inplace=True)\n",
    "df_id.rename(columns={\"student_id\": \"id\"}, inplace=True)"
   ]
  },
  {
   "cell_type": "code",
   "execution_count": 4,
   "id": "c700993d",
   "metadata": {},
   "outputs": [
    {
     "data": {
      "text/html": [
       "<div>\n",
       "<style scoped>\n",
       "    .dataframe tbody tr th:only-of-type {\n",
       "        vertical-align: middle;\n",
       "    }\n",
       "\n",
       "    .dataframe tbody tr th {\n",
       "        vertical-align: top;\n",
       "    }\n",
       "\n",
       "    .dataframe thead th {\n",
       "        text-align: right;\n",
       "    }\n",
       "</style>\n",
       "<table border=\"1\" class=\"dataframe\">\n",
       "  <thead>\n",
       "    <tr style=\"text-align: right;\">\n",
       "      <th></th>\n",
       "      <th>id</th>\n",
       "      <th>group</th>\n",
       "      <th>rev</th>\n",
       "    </tr>\n",
       "  </thead>\n",
       "  <tbody>\n",
       "    <tr>\n",
       "      <th>0</th>\n",
       "      <td>5378875</td>\n",
       "      <td>B</td>\n",
       "      <td>590.0</td>\n",
       "    </tr>\n",
       "    <tr>\n",
       "      <th>1</th>\n",
       "      <td>1477204</td>\n",
       "      <td>B</td>\n",
       "      <td>3040.0</td>\n",
       "    </tr>\n",
       "    <tr>\n",
       "      <th>2</th>\n",
       "      <td>3206185</td>\n",
       "      <td>B</td>\n",
       "      <td>290.0</td>\n",
       "    </tr>\n",
       "    <tr>\n",
       "      <th>3</th>\n",
       "      <td>4002619</td>\n",
       "      <td>A</td>\n",
       "      <td>2890.0</td>\n",
       "    </tr>\n",
       "    <tr>\n",
       "      <th>4</th>\n",
       "      <td>4202732</td>\n",
       "      <td>B</td>\n",
       "      <td>290.0</td>\n",
       "    </tr>\n",
       "  </tbody>\n",
       "</table>\n",
       "</div>"
      ],
      "text/plain": [
       "        id group     rev\n",
       "0  5378875     B   590.0\n",
       "1  1477204     B  3040.0\n",
       "2  3206185     B   290.0\n",
       "3  4002619     A  2890.0\n",
       "4  4202732     B   290.0"
      ]
     },
     "execution_count": 4,
     "metadata": {},
     "output_type": "execute_result"
    }
   ],
   "source": [
    "data = pd.merge(df_groups, df_checks, left_on=\"id\", right_on=\"id\")\n",
    "data = pd.merge(data, df_id, left_on=\"id\", right_on=\"id\")\n",
    "\n",
    "data.head(5)"
   ]
  },
  {
   "cell_type": "code",
   "execution_count": 5,
   "id": "30e670ff",
   "metadata": {},
   "outputs": [
    {
     "data": {
      "text/plain": [
       "id       392\n",
       "group      2\n",
       "rev       38\n",
       "dtype: int64"
      ]
     },
     "execution_count": 5,
     "metadata": {},
     "output_type": "execute_result"
    }
   ],
   "source": [
    "data.nunique()"
   ]
  },
  {
   "cell_type": "code",
   "execution_count": 6,
   "id": "a254ce83",
   "metadata": {},
   "outputs": [
    {
     "data": {
      "text/plain": [
       "B    314\n",
       "A     78\n",
       "Name: group, dtype: int64"
      ]
     },
     "execution_count": 6,
     "metadata": {},
     "output_type": "execute_result"
    }
   ],
   "source": [
    "data[\"group\"].value_counts()"
   ]
  },
  {
   "cell_type": "code",
   "execution_count": 7,
   "id": "f6d14143",
   "metadata": {},
   "outputs": [
    {
     "data": {
      "image/png": "[encoded data removed]",
      "text/plain": [
       "<Figure size 360x216 with 1 Axes>"
      ]
     },
     "metadata": {
      "needs_background": "light"
     },
     "output_type": "display_data"
    }
   ],
   "source": [
    "plt.figure(figsize=(5, 3))\n",
    "plt.hist([(data[data[\"group\"] == \"A\"][\"rev\"]), (data[data[\"group\"] == \"B\"][\"rev\"])], \n",
    "         bins=20, \n",
    "         stacked=True, \n",
    "         label=[\"A\", \"B\"])\n",
    "plt.legend()\n",
    "plt.xlabel(\"revenue\")\n",
    "plt.show()"
   ]
  },
  {
   "cell_type": "code",
   "execution_count": 8,
   "id": "c6cd1472",
   "metadata": {},
   "outputs": [
    {
     "data": {
      "text/plain": [
       "3     2890.0\n",
       "10     199.0\n",
       "18     290.0\n",
       "20     990.0\n",
       "22     990.0\n",
       "Name: rev, dtype: float64"
      ]
     },
     "execution_count": 8,
     "metadata": {},
     "output_type": "execute_result"
    }
   ],
   "source": [
    "A = data.query(\"group == 'A'\").rev\n",
    "A.head(5)"
   ]
  },
  {
   "cell_type": "code",
   "execution_count": 9,
   "id": "6f8e5fd5",
   "metadata": {},
   "outputs": [],
   "source": [
    "A = data[data[\"group\"] == \"A\"][\"rev\"].values\n",
    "B = data[data[\"group\"] == \"B\"][\"rev\"].values"
   ]
  },
  {
   "cell_type": "code",
   "execution_count": 10,
   "id": "f75998b0",
   "metadata": {},
   "outputs": [
    {
     "data": {
      "text/plain": [
       "(585.0, 1140.0)"
      ]
     },
     "execution_count": 10,
     "metadata": {},
     "output_type": "execute_result"
    }
   ],
   "source": [
    "np.median(A), np.median(B)"
   ]
  },
  {
   "cell_type": "code",
   "execution_count": 11,
   "id": "d0dc0326",
   "metadata": {},
   "outputs": [
    {
     "data": {
      "text/plain": [
       "(933.5897435897435, 1257.8789920382164)"
      ]
     },
     "execution_count": 11,
     "metadata": {},
     "output_type": "execute_result"
    }
   ],
   "source": [
    "np.mean(A), np.mean(B)"
   ]
  },
  {
   "cell_type": "code",
   "execution_count": 12,
   "id": "11bceb5e",
   "metadata": {
    "code_folding": [
     0
    ]
   },
   "outputs": [],
   "source": [
    "def plot_the_couple(pvals, N, power, alpha):\n",
    "    fig, axes = plt.subplots(nrows=1, ncols=2, figsize=(10, 3))\n",
    "\n",
    "    axes[0].hist(pvals)\n",
    "    axes[0].set_xlabel(\"p values\")\n",
    "    axes[0].set_xlim(-0.1, 1.1)\n",
    "\n",
    "    \n",
    "    np.array(pvals.sort())\n",
    "    df = pd.DataFrame({\"pvals\": pvals, \"TPR\": [i / N for i in range(N)]})\n",
    "    \n",
    "    axes[1].plot(df[\"pvals\"], df[\"TPR\"], label=\"ROC\")\n",
    "    axes[1].plot([alpha, alpha], [0, 1], \"k\", label=\"alpha\")\n",
    "    axes[1].plot([0, alpha], [power, power], label=\"Power\")\n",
    "    axes[1].set_ylabel(\"TPR, recall, sencitivity, Power\")\n",
    "    axes[1].set_xlabel(\"FPR\")\n",
    "    axes[1].set_title(\"ROC\")\n",
    "    axes[1].set_xlim(-0.1, 1.1)\n",
    "    axes[1].legend()\n",
    "    plt.savefig(\"Power_by_ROC.png\")\n",
    "    plt.show()"
   ]
  },
  {
   "cell_type": "code",
   "execution_count": 13,
   "id": "fbeca03f",
   "metadata": {
    "code_folding": [
     0,
     3
    ]
   },
   "outputs": [],
   "source": [
    "def resample(sample, n):\n",
    "    return np.random.choice(sample, n, replace=True)\n",
    "\n",
    "def evaluate_pvals(a, b, N=1000, method=\"median\"):\n",
    "    pvals = []\n",
    "    sample = np.concatenate((a, b))\n",
    "\n",
    "    for _ in tqdm(range(N)):\n",
    "        if method == \"median\": \n",
    "            # фиксируем различие\n",
    "            diff = abs(np.median(resample(a, len(a))) - np.median(resample(b, len(b))))\n",
    "            # как часто различие будет равно и больше при многократном семплировании из выборки A+B\n",
    "            pval = np.mean([abs(np.median(resample(sample, len(a))) - np.median(resample(sample, len(b)))) >= diff for _ in range(N)])\n",
    "\n",
    "        if method == \"mean\": \n",
    "            diff = abs(np.mean(resample(a, len(a))) - np.mean(resample(b, len(a))))\n",
    "            pval = np.mean([abs(np.mean(resample(sample, len(a))) - np.mean(resample(sample, len(b)))) >= diff for _ in range(N)])\n",
    "        \n",
    "        pvals.append(pval) \n",
    "    \n",
    "    return pvals, method"
   ]
  },
  {
   "cell_type": "markdown",
   "id": "e6933df5",
   "metadata": {},
   "source": [
    "### False positives for A/A tests"
   ]
  },
  {
   "cell_type": "code",
   "execution_count": 14,
   "id": "03e0f180",
   "metadata": {},
   "outputs": [
    {
     "data": {
      "application/vnd.jupyter.widget-view+json": {
       "model_id": "48a08a6d87814a828583318fa2f9b34a",
       "version_major": 2,
       "version_minor": 0
      },
      "text/plain": [
       "  0%|          | 0/250 [00:00<?, ?it/s]"
      ]
     },
     "metadata": {},
     "output_type": "display_data"
    },
    {
     "name": "stdout",
     "output_type": "stream",
     "text": [
      "method: median, false positives: 0.064\n"
     ]
    },
    {
     "data": {
      "image/png": "[encoded data removed]",
      "text/plain": [
       "<Figure size 720x216 with 2 Axes>"
      ]
     },
     "metadata": {
      "needs_background": "light"
     },
     "output_type": "display_data"
    }
   ],
   "source": [
    "N = 250\n",
    "alpha = 0.05\n",
    "\n",
    "# pvals = evaluate_pvals(A, A, N, \"mean\")\n",
    "pvals, method = evaluate_pvals(A, A, N, \"median\")\n",
    "\n",
    "FP = np.mean(np.array(pvals) < alpha)\n",
    "print(f\"method: {method}, false positives: {FP}\")\n",
    "\n",
    "plot_the_couple(pvals, N, FP, alpha)"
   ]
  },
  {
   "cell_type": "code",
   "execution_count": 15,
   "id": "19130120",
   "metadata": {},
   "outputs": [
    {
     "data": {
      "application/vnd.jupyter.widget-view+json": {
       "model_id": "b9f4c1b8b8ef448a92cee8fa557a38d9",
       "version_major": 2,
       "version_minor": 0
      },
      "text/plain": [
       "  0%|          | 0/250 [00:00<?, ?it/s]"
      ]
     },
     "metadata": {},
     "output_type": "display_data"
    },
    {
     "name": "stdout",
     "output_type": "stream",
     "text": [
      "method: median, false positives: 0.044\n"
     ]
    },
    {
     "data": {
      "image/png": "[encoded data removed]",
      "text/plain": [
       "<Figure size 720x216 with 2 Axes>"
      ]
     },
     "metadata": {
      "needs_background": "light"
     },
     "output_type": "display_data"
    }
   ],
   "source": [
    "N = 250\n",
    "alpha = 0.05\n",
    "\n",
    "# pvals = evaluate_pvals(B, B, N, \"mean\")\n",
    "pvals, method = evaluate_pvals(B, B, N, \"median\")\n",
    "\n",
    "FP = np.mean(np.array(pvals) < alpha)\n",
    "print(f\"method: {method}, false positives: {FP}\")\n",
    "\n",
    "plot_the_couple(pvals, N, FP, alpha)"
   ]
  },
  {
   "cell_type": "markdown",
   "id": "70ebe287",
   "metadata": {},
   "source": [
    "### Power for A/B test"
   ]
  },
  {
   "cell_type": "code",
   "execution_count": 16,
   "id": "0600e79c",
   "metadata": {},
   "outputs": [
    {
     "data": {
      "application/vnd.jupyter.widget-view+json": {
       "model_id": "5fd73373fee0427a8fc34aa3f4d746a0",
       "version_major": 2,
       "version_minor": 0
      },
      "text/plain": [
       "  0%|          | 0/250 [00:00<?, ?it/s]"
      ]
     },
     "metadata": {},
     "output_type": "display_data"
    },
    {
     "name": "stdout",
     "output_type": "stream",
     "text": [
      "method: median, power: 48%\n"
     ]
    },
    {
     "data": {
      "image/png": "[encoded data removed]",
      "text/plain": [
       "<Figure size 720x216 with 2 Axes>"
      ]
     },
     "metadata": {
      "needs_background": "light"
     },
     "output_type": "display_data"
    }
   ],
   "source": [
    "N = 250\n",
    "alpha = 0.05\n",
    "\n",
    "# pvals, method = evaluate_pvals(A, B, N, \"mean\")\n",
    "pvals, method = evaluate_pvals(A, B, N, \"median\")\n",
    "\n",
    "FP = np.mean(np.array(pvals) < alpha)\n",
    "print(f\"method: {method}, power: {round(FP * 100)}%\")\n",
    "\n",
    "plot_the_couple(pvals, N, FP, alpha)"
   ]
  },
  {
   "cell_type": "code",
   "execution_count": 17,
   "id": "ebeb6b4b",
   "metadata": {},
   "outputs": [
    {
     "data": {
      "application/vnd.jupyter.widget-view+json": {
       "model_id": "c628a06adb8e4810a635d6b2b1e41d67",
       "version_major": 2,
       "version_minor": 0
      },
      "text/plain": [
       "  0%|          | 0/250 [00:00<?, ?it/s]"
      ]
     },
     "metadata": {},
     "output_type": "display_data"
    },
    {
     "name": "stdout",
     "output_type": "stream",
     "text": [
      "method: mean, power: 80%\n"
     ]
    },
    {
     "data": {
      "image/png": "[encoded data removed]",
      "text/plain": [
       "<Figure size 720x216 with 2 Axes>"
      ]
     },
     "metadata": {
      "needs_background": "light"
     },
     "output_type": "display_data"
    }
   ],
   "source": [
    "N = 250\n",
    "alpha = 0.05\n",
    "\n",
    "pvals, method = evaluate_pvals(A, B, N, \"mean\")\n",
    "# pvals, method = evaluate_pvals(A, B, N, \"median\")\n",
    "\n",
    "FP = np.mean(np.array(pvals) < alpha)\n",
    "print(f\"method: {method}, power: {round(FP * 100)}%\")\n",
    "\n",
    "plot_the_couple(pvals, N, FP, alpha)"
   ]
  },
  {
   "cell_type": "code",
   "execution_count": null,
   "id": "b64284b5",
   "metadata": {},
   "outputs": [],
   "source": []
  },
  {
   "cell_type": "code",
   "execution_count": null,
   "id": "ca572ed9",
   "metadata": {},
   "outputs": [],
   "source": []
  },
  {
   "cell_type": "code",
   "execution_count": null,
   "id": "911ede97",
   "metadata": {},
   "outputs": [],
   "source": []
  }
 ],
 "metadata": {
  "kernelspec": {
   "display_name": "Python 3 (ipykernel)",
   "language": "python",
   "name": "python3"
  },
  "language_info": {
   "codemirror_mode": {
    "name": "ipython",
    "version": 3
   },
   "file_extension": ".py",
   "mimetype": "text/x-python",
   "name": "python",
   "nbconvert_exporter": "python",
   "pygments_lexer": "ipython3",
   "version": "3.8.3"
  },
  "toc": {
   "base_numbering": 1,
   "nav_menu": {},
   "number_sections": true,
   "sideBar": true,
   "skip_h1_title": false,
   "title_cell": "Table of Contents",
   "title_sidebar": "Contents",
   "toc_cell": false,
   "toc_position": {},
   "toc_section_display": true,
   "toc_window_display": false
  },
  "varInspector": {
   "cols": {
    "lenName": 16,
    "lenType": 16,
    "lenVar": 40
   },
   "kernels_config": {
    "python": {
     "delete_cmd_postfix": "",
     "delete_cmd_prefix": "del ",
     "library": "var_list.py",
     "varRefreshCmd": "print(var_dic_list())"
    },
    "r": {
     "delete_cmd_postfix": ") ",
     "delete_cmd_prefix": "rm(",
     "library": "var_list.r",
     "varRefreshCmd": "cat(var_dic_list()) "
    }
   },
   "types_to_exclude": [
    "module",
    "function",
    "builtin_function_or_method",
    "instance",
    "_Feature"
   ],
   "window_display": false
  }
 },
 "nbformat": 4,
 "nbformat_minor": 5
}
